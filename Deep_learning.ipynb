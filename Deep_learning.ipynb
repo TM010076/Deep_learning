{
 "cells": [
  {
   "cell_type": "markdown",
   "metadata": {},
   "source": [
    "# 手書き文字の認識を行う\n",
    "\n",
    "- **モデルの構築**\n",
    "\n",
    "  ディープラーニングによる画像データの分類を行います。\n",
    "  \n",
    "  CNN（Convolutional Neural Network、畳み込みニューラルネットワーク）を使ってモデルを構築します。\n",
    "\n",
    "- **学習に使うデータセット**\n",
    "\n",
    "  Kerasから手書き文字のデータセットをダウンロードします。\n",
    "  \n",
    "  Kerasのデータセットは予めTraining setとTest setに分けられています。"
   ]
  },
  {
   "cell_type": "markdown",
   "metadata": {
    "colab_type": "text",
    "id": "1KxQExnVJDkS"
   },
   "source": [
    "## 1. 必要なライブラリのインポート"
   ]
  },
  {
   "cell_type": "code",
   "execution_count": 1,
   "metadata": {
    "colab": {
     "base_uri": "https://localhost:8080/",
     "height": 63
    },
    "colab_type": "code",
    "id": "9OCdQVS-JDkT",
    "outputId": "c7d9dd35-a8c7-4f80-b82d-ea42bddf6cf6"
   },
   "outputs": [],
   "source": [
    "import numpy as np\n",
    "import matplotlib.pyplot as plt\n",
    "import pandas as pd\n",
    "\n",
    "# Keras\n",
    "from tensorflow import keras\n",
    "from tensorflow.keras.layers import Dense, Activation\n",
    "from tensorflow.keras.models import Sequential\n",
    "from tensorflow.keras.utils import to_categorical\n",
    "from tensorflow.keras.layers import Conv2D\n",
    "from tensorflow.keras.layers import Flatten\n",
    "from tensorflow.keras.layers import MaxPooling2D\n",
    "from tensorflow.keras.layers import Dropout\n",
    "from tensorflow.keras import regularizers\n",
    "\n",
    "# データの分割\n",
    "from sklearn.model_selection import train_test_split\n",
    "\n",
    "# 手書き数字のデータセット\n",
    "from tensorflow.keras.datasets import mnist\n",
    "\n",
    "# JupyterNotebook上でグラフを表示する設定\n",
    "%matplotlib inline\n",
    "# DataFrameで全ての列を表示する設定\n",
    "pd.options.display.max_columns = None"
   ]
  },
  {
   "cell_type": "markdown",
   "metadata": {
    "colab_type": "text",
    "id": "GrRHWO-sJDkY"
   },
   "source": [
    "## 2. データの読込"
   ]
  },
  {
   "cell_type": "code",
   "execution_count": 2,
   "metadata": {
    "colab": {},
    "colab_type": "code",
    "id": "OmCdK5UDJDka"
   },
   "outputs": [],
   "source": [
    "# Kerasに添付されている手書き数字のデータセットをダウンロード\n",
    "(X_train, Y_train), (X_test, Y_test) = mnist.load_data()"
   ]
  },
  {
   "cell_type": "markdown",
   "metadata": {
    "colab_type": "text",
    "id": "Pjk0dp4fJDke"
   },
   "source": [
    "## 3.データの確認"
   ]
  },
  {
   "cell_type": "code",
   "execution_count": 3,
   "metadata": {
    "colab": {
     "base_uri": "https://localhost:8080/",
     "height": 85
    },
    "colab_type": "code",
    "id": "Xtan1ZM8JDkf",
    "outputId": "6f5563d5-5242-44d2-e629-f705a151b7e0"
   },
   "outputs": [
    {
     "name": "stdout",
     "output_type": "stream",
     "text": [
      "(60000, 28, 28)\n",
      "(60000,)\n",
      "(10000, 28, 28)\n",
      "(10000,)\n"
     ]
    }
   ],
   "source": [
    "# 形状の確認\n",
    "print(X_train.shape)\n",
    "print(Y_train.shape)\n",
    "print(X_test.shape)\n",
    "print(Y_test.shape)"
   ]
  },
  {
   "cell_type": "code",
   "execution_count": 4,
   "metadata": {
    "colab": {
     "base_uri": "https://localhost:8080/",
     "height": 1000
    },
    "colab_type": "code",
    "id": "2gVHUVDsJDkl",
    "outputId": "fa966cd7-7992-412f-8d49-a38597d8e71a"
   },
   "outputs": [
    {
     "data": {
      "text/plain": [
       "array([[  0,   0,   0,   0,   0,   0,   0,   0,   0,   0,   0,   0,   0,\n",
       "          0,   0,   0,   0,   0,   0,   0,   0,   0,   0,   0,   0,   0,\n",
       "          0,   0],\n",
       "       [  0,   0,   0,   0,   0,   0,   0,   0,   0,   0,   0,   0,   0,\n",
       "          0,   0,   0,   0,   0,   0,   0,   0,   0,   0,   0,   0,   0,\n",
       "          0,   0],\n",
       "       [  0,   0,   0,   0,   0,   0,   0,   0,   0,   0,   0,   0,   0,\n",
       "          0,   0,   0,   0,   0,   0,   0,   0,   0,   0,   0,   0,   0,\n",
       "          0,   0],\n",
       "       [  0,   0,   0,   0,   0,   0,   0,   0,   0,   0,   0,   0,   0,\n",
       "          0,   0,   0,   0,   0,   0,   0,   0,   0,   0,   0,   0,   0,\n",
       "          0,   0],\n",
       "       [  0,   0,   0,   0,   0,   0,   0,   0,   0,   0,   0,   0,   0,\n",
       "          0,   0,   0,   0,   0,   0,   0,   0,   0,   0,   0,   0,   0,\n",
       "          0,   0],\n",
       "       [  0,   0,   0,   0,   0,   0,   0,   0,   0,   0,   0,   0,   3,\n",
       "         18,  18,  18, 126, 136, 175,  26, 166, 255, 247, 127,   0,   0,\n",
       "          0,   0],\n",
       "       [  0,   0,   0,   0,   0,   0,   0,   0,  30,  36,  94, 154, 170,\n",
       "        253, 253, 253, 253, 253, 225, 172, 253, 242, 195,  64,   0,   0,\n",
       "          0,   0],\n",
       "       [  0,   0,   0,   0,   0,   0,   0,  49, 238, 253, 253, 253, 253,\n",
       "        253, 253, 253, 253, 251,  93,  82,  82,  56,  39,   0,   0,   0,\n",
       "          0,   0],\n",
       "       [  0,   0,   0,   0,   0,   0,   0,  18, 219, 253, 253, 253, 253,\n",
       "        253, 198, 182, 247, 241,   0,   0,   0,   0,   0,   0,   0,   0,\n",
       "          0,   0],\n",
       "       [  0,   0,   0,   0,   0,   0,   0,   0,  80, 156, 107, 253, 253,\n",
       "        205,  11,   0,  43, 154,   0,   0,   0,   0,   0,   0,   0,   0,\n",
       "          0,   0],\n",
       "       [  0,   0,   0,   0,   0,   0,   0,   0,   0,  14,   1, 154, 253,\n",
       "         90,   0,   0,   0,   0,   0,   0,   0,   0,   0,   0,   0,   0,\n",
       "          0,   0],\n",
       "       [  0,   0,   0,   0,   0,   0,   0,   0,   0,   0,   0, 139, 253,\n",
       "        190,   2,   0,   0,   0,   0,   0,   0,   0,   0,   0,   0,   0,\n",
       "          0,   0],\n",
       "       [  0,   0,   0,   0,   0,   0,   0,   0,   0,   0,   0,  11, 190,\n",
       "        253,  70,   0,   0,   0,   0,   0,   0,   0,   0,   0,   0,   0,\n",
       "          0,   0],\n",
       "       [  0,   0,   0,   0,   0,   0,   0,   0,   0,   0,   0,   0,  35,\n",
       "        241, 225, 160, 108,   1,   0,   0,   0,   0,   0,   0,   0,   0,\n",
       "          0,   0],\n",
       "       [  0,   0,   0,   0,   0,   0,   0,   0,   0,   0,   0,   0,   0,\n",
       "         81, 240, 253, 253, 119,  25,   0,   0,   0,   0,   0,   0,   0,\n",
       "          0,   0],\n",
       "       [  0,   0,   0,   0,   0,   0,   0,   0,   0,   0,   0,   0,   0,\n",
       "          0,  45, 186, 253, 253, 150,  27,   0,   0,   0,   0,   0,   0,\n",
       "          0,   0],\n",
       "       [  0,   0,   0,   0,   0,   0,   0,   0,   0,   0,   0,   0,   0,\n",
       "          0,   0,  16,  93, 252, 253, 187,   0,   0,   0,   0,   0,   0,\n",
       "          0,   0],\n",
       "       [  0,   0,   0,   0,   0,   0,   0,   0,   0,   0,   0,   0,   0,\n",
       "          0,   0,   0,   0, 249, 253, 249,  64,   0,   0,   0,   0,   0,\n",
       "          0,   0],\n",
       "       [  0,   0,   0,   0,   0,   0,   0,   0,   0,   0,   0,   0,   0,\n",
       "          0,  46, 130, 183, 253, 253, 207,   2,   0,   0,   0,   0,   0,\n",
       "          0,   0],\n",
       "       [  0,   0,   0,   0,   0,   0,   0,   0,   0,   0,   0,   0,  39,\n",
       "        148, 229, 253, 253, 253, 250, 182,   0,   0,   0,   0,   0,   0,\n",
       "          0,   0],\n",
       "       [  0,   0,   0,   0,   0,   0,   0,   0,   0,   0,  24, 114, 221,\n",
       "        253, 253, 253, 253, 201,  78,   0,   0,   0,   0,   0,   0,   0,\n",
       "          0,   0],\n",
       "       [  0,   0,   0,   0,   0,   0,   0,   0,  23,  66, 213, 253, 253,\n",
       "        253, 253, 198,  81,   2,   0,   0,   0,   0,   0,   0,   0,   0,\n",
       "          0,   0],\n",
       "       [  0,   0,   0,   0,   0,   0,  18, 171, 219, 253, 253, 253, 253,\n",
       "        195,  80,   9,   0,   0,   0,   0,   0,   0,   0,   0,   0,   0,\n",
       "          0,   0],\n",
       "       [  0,   0,   0,   0,  55, 172, 226, 253, 253, 253, 253, 244, 133,\n",
       "         11,   0,   0,   0,   0,   0,   0,   0,   0,   0,   0,   0,   0,\n",
       "          0,   0],\n",
       "       [  0,   0,   0,   0, 136, 253, 253, 253, 212, 135, 132,  16,   0,\n",
       "          0,   0,   0,   0,   0,   0,   0,   0,   0,   0,   0,   0,   0,\n",
       "          0,   0],\n",
       "       [  0,   0,   0,   0,   0,   0,   0,   0,   0,   0,   0,   0,   0,\n",
       "          0,   0,   0,   0,   0,   0,   0,   0,   0,   0,   0,   0,   0,\n",
       "          0,   0],\n",
       "       [  0,   0,   0,   0,   0,   0,   0,   0,   0,   0,   0,   0,   0,\n",
       "          0,   0,   0,   0,   0,   0,   0,   0,   0,   0,   0,   0,   0,\n",
       "          0,   0],\n",
       "       [  0,   0,   0,   0,   0,   0,   0,   0,   0,   0,   0,   0,   0,\n",
       "          0,   0,   0,   0,   0,   0,   0,   0,   0,   0,   0,   0,   0,\n",
       "          0,   0]], dtype=uint8)"
      ]
     },
     "execution_count": 4,
     "metadata": {},
     "output_type": "execute_result"
    }
   ],
   "source": [
    "# X_trainの先頭1行を表示\n",
    "X_train[0]"
   ]
  },
  {
   "cell_type": "code",
   "execution_count": 5,
   "metadata": {
    "colab": {
     "base_uri": "https://localhost:8080/",
     "height": 34
    },
    "colab_type": "code",
    "id": "SRbWwy6UJDkp",
    "outputId": "aa0fef7b-27d6-49fd-a0c5-823030e13384"
   },
   "outputs": [
    {
     "data": {
      "text/plain": [
       "5"
      ]
     },
     "execution_count": 5,
     "metadata": {},
     "output_type": "execute_result"
    }
   ],
   "source": [
    "# Y_trainの先頭1行を表示\n",
    "Y_train[0]"
   ]
  },
  {
   "cell_type": "markdown",
   "metadata": {
    "colab_type": "text",
    "id": "reqZYLlGJDkt"
   },
   "source": [
    "### 手書き数字の可視化"
   ]
  },
  {
   "cell_type": "code",
   "execution_count": 6,
   "metadata": {
    "colab": {},
    "colab_type": "code",
    "id": "TxaXmO6kJDku"
   },
   "outputs": [],
   "source": [
    "# 「数字:空のリスト」の辞書を作成する\n",
    "images = {label: [] for label in range(0,10)}"
   ]
  },
  {
   "cell_type": "code",
   "execution_count": 7,
   "metadata": {
    "colab": {},
    "colab_type": "code",
    "id": "XDR99WayJDky"
   },
   "outputs": [],
   "source": [
    "# 総イメージ数\n",
    "image_count = 0\n",
    "\n",
    "# それぞれの数字のリストに、説明変数をappendしていく\n",
    "for i in range(0, len(X_train)):\n",
    "    if len(images[Y_train[i]]) < 10:\n",
    "        images[Y_train[i]].append(X_train[i])\n",
    "        image_count += 1\n",
    "        if image_count == 100:\n",
    "            break"
   ]
  },
  {
   "cell_type": "code",
   "execution_count": 8,
   "metadata": {
    "colab": {
     "base_uri": "https://localhost:8080/",
     "height": 303
    },
    "colab_type": "code",
    "id": "qFdmn93gJDk1",
    "outputId": "2f54d47d-1890-49f6-8e1b-7bc4ac268dd5"
   },
   "outputs": [
    {
     "data": {
      "image/png": "[encoded data removed]",
      "text/plain": [
       "<Figure size 360x360 with 100 Axes>"
      ]
     },
     "metadata": {},
     "output_type": "display_data"
    }
   ],
   "source": [
    "# 少し時間がかかります。\n",
    "# 10行10列にグラフを分割\n",
    "fig, ax = plt.subplots(10, 10, figsize=(5, 5))\n",
    "\n",
    "for i in range(10):\n",
    "    # ラベル\n",
    "    ax[i, 0].set_ylabel(i)\n",
    "\n",
    "    for j in range(10):\n",
    "        # 行=i、列=jの位置に画像を描画する\n",
    "        ax[i, j].imshow(images[i][j].reshape(28, 28), cmap='Greys')\n",
    "\n",
    "        # 目盛を表示しない設定\n",
    "        ax[i, j].tick_params(left=False, labelleft=False, bottom=False, labelbottom=False)\n",
    "\n",
    "plt.show()"
   ]
  },
  {
   "cell_type": "markdown",
   "metadata": {
    "colab_type": "text",
    "id": "DHIMd_H6JDk5"
   },
   "source": [
    "## 4. データの前処理"
   ]
  },
  {
   "cell_type": "code",
   "execution_count": 9,
   "metadata": {
    "colab": {
     "base_uri": "https://localhost:8080/",
     "height": 85
    },
    "colab_type": "code",
    "id": "qweAKyoqJDk6",
    "outputId": "53bdbae6-28cd-451e-9c35-8bd82d30f96e"
   },
   "outputs": [
    {
     "name": "stdout",
     "output_type": "stream",
     "text": [
      "(60000, 28, 28)\n",
      "(60000,)\n",
      "(10000, 28, 28)\n",
      "(10000,)\n"
     ]
    }
   ],
   "source": [
    "# 形状の確認\n",
    "print(X_train.shape)\n",
    "print(Y_train.shape)\n",
    "print(X_test.shape)\n",
    "print(Y_test.shape)"
   ]
  },
  {
   "cell_type": "code",
   "execution_count": 10,
   "metadata": {
    "colab": {},
    "colab_type": "code",
    "id": "yKADV4C2JDk-"
   },
   "outputs": [],
   "source": [
    "# len関数を使い、X_trainを(X_trainの長さ, 28, 28, 1)にreshapeしてX_train2に代入\n",
    "X_train2 = X_train.reshape(len(X_train), 28, 28, 1)\n",
    "\n",
    "# len関数を使い、X_testを(X_testの長さ, 28, 28, 1)にreshapeしてX_test2に代入\n",
    "X_test2 = X_test.reshape(len(X_test), 28, 28, 1)\n"
   ]
  },
  {
   "cell_type": "code",
   "execution_count": 11,
   "metadata": {
    "colab": {},
    "colab_type": "code",
    "id": "i8h8DUcJJDlA"
   },
   "outputs": [],
   "source": [
    "# to_categoricalを使い、Y_trainをカテゴリー変数に展開してY_train2に代入\n",
    "Y_train2 = to_categorical(Y_train)\n",
    "\n",
    "# to_categoricalを使い、Y_testをカテゴリー変数に展開してY_test2に代入\n",
    "Y_test2 = to_categorical(Y_test)\n"
   ]
  },
  {
   "cell_type": "code",
   "execution_count": 12,
   "metadata": {
    "colab": {
     "base_uri": "https://localhost:8080/",
     "height": 85
    },
    "colab_type": "code",
    "id": "3EmJUH5VJDlD",
    "outputId": "dcf3432f-4857-412a-a15f-b615d8783ec1"
   },
   "outputs": [
    {
     "name": "stdout",
     "output_type": "stream",
     "text": [
      "(60000, 28, 28, 1)\n",
      "(60000, 10)\n",
      "(10000, 28, 28, 1)\n",
      "(10000, 10)\n"
     ]
    }
   ],
   "source": [
    "# 形状の確認\n",
    "print(X_train2.shape)\n",
    "print(Y_train2.shape)\n",
    "print(X_test2.shape)\n",
    "print(Y_test2.shape)"
   ]
  },
  {
   "cell_type": "code",
   "execution_count": 13,
   "metadata": {
    "colab": {},
    "colab_type": "code",
    "id": "IUPxObRwJDlG"
   },
   "outputs": [],
   "source": [
    "# train_test_splitを使いデータを7:3に分割\n",
    "# 機械学習用データ(X_train2、Y_train2)を「X_train2, X_valid2, Y_train2, Y_valid2」に分割\n",
    "X_train2, X_valid2, Y_train2, Y_valid2 = train_test_split(X_train2, Y_train2, test_size=0.3, random_state=0)"
   ]
  },
  {
   "cell_type": "code",
   "execution_count": 14,
   "metadata": {
    "colab": {
     "base_uri": "https://localhost:8080/",
     "height": 68
    },
    "colab_type": "code",
    "id": "Ijwe_AtYJDlI",
    "outputId": "9fc1f496-6d7d-42c2-e99e-b4b319b1024b"
   },
   "outputs": [
    {
     "name": "stdout",
     "output_type": "stream",
     "text": [
      "X_train2= (42000, 28, 28, 1) , Y_train2= (42000, 10)\n",
      "X_valid2= (18000, 28, 28, 1) , Y_valid2= (18000, 10)\n",
      "X_test2= (10000, 28, 28, 1) , Y_test2= (10000, 10)\n"
     ]
    }
   ],
   "source": [
    "# データ(学習、検証、テスト)の形状を確認\n",
    "print(\"X_train2=\", X_train2.shape, \", Y_train2=\", Y_train2.shape)\n",
    "print(\"X_valid2=\", X_valid2.shape, \", Y_valid2=\", Y_valid2.shape)\n",
    "print(\"X_test2=\", X_test2.shape, \", Y_test2=\", Y_test2.shape)"
   ]
  },
  {
   "cell_type": "markdown",
   "metadata": {
    "colab_type": "text",
    "id": "B9-lzLelJDlL"
   },
   "source": [
    "## 5. モデルの構築"
   ]
  },
  {
   "cell_type": "code",
   "execution_count": 17,
   "metadata": {
    "colab": {},
    "colab_type": "code",
    "id": "5pgXjSL_JDlO",
    "scrolled": true
   },
   "outputs": [],
   "source": [
    "# モデルの初期化\n",
    "model = keras.Sequential()\n",
    "\n",
    "# ここにモデルを構築するコードを記述してください\n",
    "# 入力層\n",
    "model.add(Conv2D(64, kernel_size=3, padding=\"same\",\n",
    "                 input_shape=(28, 28, 1,), activation=\"relu\"))\n",
    "# プーリング層\n",
    "model.add(MaxPooling2D(pool_size=(2, 2)))\n",
    "# ドロップアウト層\n",
    "model.add(Dropout(0.25))\n",
    "\n",
    "# 層のユニットの繰り返し\n",
    "model.add(Conv2D(128, kernel_size=3, padding=\"same\", activation=\"relu\"))\n",
    "model.add(MaxPooling2D(pool_size=(2, 2)))\n",
    "model.add(Dropout(0.25))\n",
    "\n",
    "# 1次元に変換\n",
    "model.add(Flatten())\n",
    "model.add(Dense(64, activation=\"relu\", kernel_regularizer=regularizers.l2(0.001))) # 正規化\n",
    "model.add(Dropout(0.5))\n",
    "\n",
    "# 出力層\n",
    "model.add(Dense(10, activation='softmax'))\n",
    "\n",
    "# モデルの構築\n",
    "model.compile(optimizer = \"rmsprop\", loss='categorical_crossentropy', metrics=['accuracy'])"
   ]
  },
  {
   "cell_type": "code",
   "execution_count": 18,
   "metadata": {
    "colab": {
     "base_uri": "https://localhost:8080/",
     "height": 493
    },
    "colab_type": "code",
    "id": "bV2p_OUYJDlR",
    "outputId": "9cee5ecd-1417-4f46-bc48-ecd7a082b4d1"
   },
   "outputs": [
    {
     "name": "stdout",
     "output_type": "stream",
     "text": [
      "Model: \"sequential_1\"\n",
      "_________________________________________________________________\n",
      "Layer (type)                 Output Shape              Param #   \n",
      "=================================================================\n",
      "conv2d_2 (Conv2D)            (None, 28, 28, 64)        640       \n",
      "_________________________________________________________________\n",
      "max_pooling2d_2 (MaxPooling2 (None, 14, 14, 64)        0         \n",
      "_________________________________________________________________\n",
      "dropout_3 (Dropout)          (None, 14, 14, 64)        0         \n",
      "_________________________________________________________________\n",
      "conv2d_3 (Conv2D)            (None, 14, 14, 128)       73856     \n",
      "_________________________________________________________________\n",
      "max_pooling2d_3 (MaxPooling2 (None, 7, 7, 128)         0         \n",
      "_________________________________________________________________\n",
      "dropout_4 (Dropout)          (None, 7, 7, 128)         0         \n",
      "_________________________________________________________________\n",
      "flatten_1 (Flatten)          (None, 6272)              0         \n",
      "_________________________________________________________________\n",
      "dense_2 (Dense)              (None, 64)                401472    \n",
      "_________________________________________________________________\n",
      "dropout_5 (Dropout)          (None, 64)                0         \n",
      "_________________________________________________________________\n",
      "dense_3 (Dense)              (None, 10)                650       \n",
      "=================================================================\n",
      "Total params: 476,618\n",
      "Trainable params: 476,618\n",
      "Non-trainable params: 0\n",
      "_________________________________________________________________\n"
     ]
    }
   ],
   "source": [
    "# モデルの構造を表示\n",
    "model.summary()\n"
   ]
  },
  {
   "cell_type": "code",
   "execution_count": 20,
   "metadata": {
    "colab": {
     "base_uri": "https://localhost:8080/",
     "height": 1000
    },
    "colab_type": "code",
    "id": "2NEyRuNtJDlU",
    "outputId": "6ce11df2-56c6-485b-e043-bd089c69273d"
   },
   "outputs": [
    {
     "name": "stdout",
     "output_type": "stream",
     "text": [
      "Epoch 1/10\n",
      "1313/1313 [==============================] - 158s 120ms/step - loss: 0.6397 - accuracy: 0.8111 - val_loss: 0.1594 - val_accuracy: 0.9653\n",
      "Epoch 2/10\n",
      "1313/1313 [==============================] - 157s 120ms/step - loss: 0.2506 - accuracy: 0.9394 - val_loss: 0.1134 - val_accuracy: 0.9742\n",
      "Epoch 3/10\n",
      "1313/1313 [==============================] - 154s 117ms/step - loss: 0.2452 - accuracy: 0.9433 - val_loss: 0.1196 - val_accuracy: 0.9765\n",
      "Epoch 4/10\n",
      "1313/1313 [==============================] - 153s 117ms/step - loss: 0.2425 - accuracy: 0.9429 - val_loss: 0.1057 - val_accuracy: 0.9779\n",
      "Epoch 5/10\n",
      "1313/1313 [==============================] - 154s 118ms/step - loss: 0.2497 - accuracy: 0.9432 - val_loss: 0.1052 - val_accuracy: 0.9783\n",
      "Epoch 6/10\n",
      "1313/1313 [==============================] - 154s 117ms/step - loss: 0.2495 - accuracy: 0.9433 - val_loss: 0.1332 - val_accuracy: 0.9713\n",
      "Epoch 7/10\n",
      "1313/1313 [==============================] - 154s 117ms/step - loss: 0.2484 - accuracy: 0.9443 - val_loss: 0.1043 - val_accuracy: 0.9776\n",
      "Epoch 8/10\n",
      "1313/1313 [==============================] - 154s 117ms/step - loss: 0.2505 - accuracy: 0.9449 - val_loss: 0.1353 - val_accuracy: 0.9734\n",
      "Epoch 9/10\n",
      "1313/1313 [==============================] - 154s 118ms/step - loss: 0.2512 - accuracy: 0.9441 - val_loss: 0.1052 - val_accuracy: 0.9809\n",
      "Epoch 10/10\n",
      "1313/1313 [==============================] - 153s 116ms/step - loss: 0.2612 - accuracy: 0.9453 - val_loss: 0.1068 - val_accuracy: 0.9811\n",
      "CPU times: user 25min 4s, sys: 7.16 s, total: 25min 11s\n",
      "Wall time: 25min 46s\n"
     ]
    }
   ],
   "source": [
    "%%time\n",
    "# 学習を実施し、結果をlogで受け取る。EarlyStoppingを使用する\n",
    "log = model.fit(X_train2, Y_train2, epochs=10, batch_size=32, verbose=True,\n",
    "                callbacks=[keras.callbacks.EarlyStopping(monitor='val_loss',\n",
    "                                                         min_delta=0, patience=100,\n",
    "                                                         verbose=1)],\n",
    "         validation_data=(X_valid2, Y_valid2))"
   ]
  },
  {
   "cell_type": "code",
   "execution_count": 21,
   "metadata": {
    "colab": {
     "base_uri": "https://localhost:8080/",
     "height": 279
    },
    "colab_type": "code",
    "id": "Zp76NioRJDlY",
    "outputId": "d2e98b53-6e98-4de1-ceb9-98ae37d8c2fc"
   },
   "outputs": [
    {
     "data": {
      "image/png": "[encoded data removed]",
      "text/plain": [
       "<Figure size 432x288 with 1 Axes>"
      ]
     },
     "metadata": {
      "needs_background": "light"
     },
     "output_type": "display_data"
    }
   ],
   "source": [
    "# 学習の課程をグラフで表示する\n",
    "plt.plot(log.history['loss'], label='loss')\n",
    "plt.plot(log.history['val_loss'], label='val_loss')\n",
    "plt.legend(frameon=False) # 凡例の表示\n",
    "plt.xlabel(\"epochs\")\n",
    "plt.ylabel(\"crossentropy\")\n",
    "plt.show()\n"
   ]
  },
  {
   "cell_type": "markdown",
   "metadata": {
    "colab_type": "text",
    "id": "KEGrRWLZS017"
   },
   "source": [
    "## 6. テストデータによる評価"
   ]
  },
  {
   "cell_type": "code",
   "execution_count": 22,
   "metadata": {},
   "outputs": [],
   "source": [
    "# 環境により、そのままX_test2を使うとエラーになる対策(float型に変換)\n",
    "X_test2 = X_test2 * 1.0"
   ]
  },
  {
   "cell_type": "code",
   "execution_count": 23,
   "metadata": {
    "colab": {},
    "colab_type": "code",
    "id": "L6ydONrPSvLp"
   },
   "outputs": [],
   "source": [
    "# predictを使い、X_test2をもとに予測した結果をY_pred2に代入\n",
    "Y_pred2 = np.argmax(model.predict(X_test2), axis=1)\n"
   ]
  },
  {
   "cell_type": "code",
   "execution_count": 24,
   "metadata": {
    "colab": {},
    "colab_type": "code",
    "id": "t8br5NzmTBiP"
   },
   "outputs": [],
   "source": [
    "# カテゴリー変数Y_test2を復元してY_test2_に代入\n",
    "Y_test2_ = np.argmax(Y_test2, axis=1)\n"
   ]
  },
  {
   "cell_type": "code",
   "execution_count": 25,
   "metadata": {
    "colab": {
     "base_uri": "https://localhost:8080/",
     "height": 306
    },
    "colab_type": "code",
    "id": "y-ZwvjL2TGup",
    "outputId": "32f306f1-8478-4a44-d47e-4a7a6f811993"
   },
   "outputs": [
    {
     "name": "stdout",
     "output_type": "stream",
     "text": [
      "              precision    recall  f1-score   support\n",
      "\n",
      "           0       0.98      0.99      0.99       980\n",
      "           1       0.99      0.99      0.99      1135\n",
      "           2       0.98      0.99      0.98      1032\n",
      "           3       0.97      0.99      0.98      1010\n",
      "           4       0.98      0.98      0.98       982\n",
      "           5       0.99      0.97      0.98       892\n",
      "           6       0.99      0.98      0.98       958\n",
      "           7       0.98      0.97      0.98      1028\n",
      "           8       0.98      0.97      0.98       974\n",
      "           9       0.98      0.97      0.98      1009\n",
      "\n",
      "    accuracy                           0.98     10000\n",
      "   macro avg       0.98      0.98      0.98     10000\n",
      "weighted avg       0.98      0.98      0.98     10000\n",
      "\n"
     ]
    }
   ],
   "source": [
    "# classification_reportを使い、モデルの評価を実施\n",
    "from sklearn.metrics import classification_report\n",
    "\n",
    "print(classification_report(Y_test2_, Y_pred2))"
   ]
  },
  {
   "cell_type": "markdown",
   "metadata": {},
   "source": [
    "#### accuracy（正解率）は 0.98 、つまり98%であり、かなり性能の良いモデルを得ることができました。"
   ]
  }
 ],
 "metadata": {
  "accelerator": "GPU",
  "celltoolbar": "Raw Cell Format",
  "colab": {
   "collapsed_sections": [],
   "name": "Assignment6_answered.ipynb",
   "provenance": []
  },
  "kernelspec": {
   "display_name": "Python 3 (ipykernel)",
   "language": "python",
   "name": "python3"
  },
  "language_info": {
   "codemirror_mode": {
    "name": "ipython",
    "version": 3
   },
   "file_extension": ".py",
   "mimetype": "text/x-python",
   "name": "python",
   "nbconvert_exporter": "python",
   "pygments_lexer": "ipython3",
   "version": "3.8.3"
  }
 },
 "nbformat": 4,
 "nbformat_minor": 4
}
